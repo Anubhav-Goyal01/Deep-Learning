{
  "cells": [
    {
      "cell_type": "code",
      "execution_count": 1,
      "metadata": {
        "id": "YTYvZWYpzGTP"
      },
      "outputs": [],
      "source": [
        "from io import open\n",
        "import os, string, random, time, math\n",
        "import matplotlib.pyplot as plt\n",
        "import seaborn as sns\n",
        "import numpy as np\n",
        "sns.set()\n",
        "\n",
        "from sklearn.model_selection import train_test_split\n",
        "import torch\n",
        "import torch.nn as nn\n",
        "import torch.optim as optim\n",
        "\n",
        "from IPython.display import clear_output\n"
      ]
    },
    {
      "cell_type": "code",
      "execution_count": 2,
      "metadata": {
        "colab": {
          "base_uri": "https://localhost:8080/",
          "height": 244
        },
        "id": "aKk3D9eV0XWs",
        "outputId": "4cc15e01-ffbe-4119-b301-76c223339d73"
      },
      "outputs": [],
      "source": [
        "languages = []\n",
        "X = []\n",
        "Y = []\n",
        "data = []\n",
        "\n",
        "with open('name2lang.txt', 'r') as f:\n",
        "  for line in f:\n",
        "    name, lang = line.split(',')\n",
        "    if lang.strip() not in languages:\n",
        "      languages.append(lang.strip())\n",
        "    X.append(name.strip())\n",
        "    Y.append(lang.strip())\n",
        "    data.append((name.strip(), lang.strip()))\n",
        "\n",
        "n_languages = len(languages)"
      ]
    },
    {
      "cell_type": "code",
      "execution_count": 3,
      "metadata": {
        "id": "iBaZSiJc2oOq"
      },
      "outputs": [
        {
          "name": "stdout",
          "output_type": "stream",
          "text": [
            "[('Abreu', 'Portuguese'), ('Albuquerque', 'Portuguese'), ('Almeida', 'Portuguese'), ('Alves', 'Portuguese'), ('Araujo', 'Portuguese'), ('Araullo', 'Portuguese'), ('Barros', 'Portuguese'), ('Basurto', 'Portuguese'), ('Belo', 'Portuguese'), ('Cabral', 'Portuguese')]\n"
          ]
        }
      ],
      "source": [
        "print(data[0:10])"
      ]
    },
    {
      "cell_type": "code",
      "execution_count": 4,
      "metadata": {
        "id": "mmAPXVeL3NCt"
      },
      "outputs": [],
      "source": [
        "X_train, X_test, y_train, y_test = train_test_split(X, Y, test_size = 0.2, random_state = 1, stratify = Y)"
      ]
    },
    {
      "cell_type": "code",
      "execution_count": 5,
      "metadata": {
        "id": "Z26Yu-GO5Bpr"
      },
      "outputs": [
        {
          "name": "stdout",
          "output_type": "stream",
          "text": [
            "16040 4010\n"
          ]
        }
      ],
      "source": [
        "print(len(X_train), len(X_test))"
      ]
    },
    {
      "attachments": {},
      "cell_type": "markdown",
      "metadata": {
        "id": "DtANakNO5u9j"
      },
      "source": [
        "### Encoding"
      ]
    },
    {
      "cell_type": "code",
      "execution_count": 6,
      "metadata": {
        "id": "FKPOlXTB5LfI"
      },
      "outputs": [],
      "source": [
        "all_letters = string.ascii_letters + \" .,;'\"\n",
        "n_letters = len(all_letters)"
      ]
    },
    {
      "cell_type": "code",
      "execution_count": 7,
      "metadata": {
        "id": "TgW4cBf36Hoi"
      },
      "outputs": [
        {
          "data": {
            "text/plain": [
              "57"
            ]
          },
          "execution_count": 7,
          "metadata": {},
          "output_type": "execute_result"
        }
      ],
      "source": [
        "n_letters"
      ]
    },
    {
      "cell_type": "code",
      "execution_count": 8,
      "metadata": {
        "id": "hwOKQoxu55uD"
      },
      "outputs": [],
      "source": [
        "def name_rep(name):\n",
        "  rep = torch.zeros(len(name), 1, n_letters)\n",
        "  for index, letter in enumerate(name):\n",
        "    pos = all_letters.find(letter)\n",
        "    rep[index][0][pos] = 1\n",
        "  return rep"
      ]
    },
    {
      "cell_type": "code",
      "execution_count": 9,
      "metadata": {
        "id": "7Dtx0KrH7EjS"
      },
      "outputs": [],
      "source": [
        "def lang_rep(lang):\n",
        "  return torch.tensor([languages.index(lang)], dtype = torch.long)"
      ]
    },
    {
      "cell_type": "code",
      "execution_count": 10,
      "metadata": {
        "colab": {
          "base_uri": "https://localhost:8080/"
        },
        "id": "LNFEUAco8XK7",
        "outputId": "29f8c5de-b625-42fc-c7e2-bec6344bdba5"
      },
      "outputs": [
        {
          "data": {
            "text/plain": [
              "tensor([0])"
            ]
          },
          "execution_count": 10,
          "metadata": {},
          "output_type": "execute_result"
        }
      ],
      "source": [
        "lang_rep(\"Portuguese\")"
      ]
    },
    {
      "cell_type": "code",
      "execution_count": 11,
      "metadata": {
        "colab": {
          "base_uri": "https://localhost:8080/"
        },
        "id": "-i3CL6AL8bZi",
        "outputId": "6485c371-b7e9-4f4c-9e78-e701a606bdca"
      },
      "outputs": [
        {
          "name": "stdout",
          "output_type": "stream",
          "text": [
            "{'Portuguese': 74, 'Irish': 232, 'Spanish': 298, 'Vietnamese': 73, 'Chinese': 268, 'Greek': 203, 'Czech': 519, 'Dutch': 297, 'Japanese': 991, 'French': 277, 'German': 724, 'Scottish': 100, 'English': 3668, 'Russian': 9384, 'Polish': 139, 'Arabic': 2000, 'Korean': 94, 'Italian': 709}\n"
          ]
        }
      ],
      "source": [
        "count = {}\n",
        "for i in Y:\n",
        "  if i not in count:\n",
        "    count[i] = 1\n",
        "  else:\n",
        "    count[i] = count[i] + 1\n",
        "\n",
        "print(count)"
      ]
    },
    {
      "cell_type": "code",
      "execution_count": 12,
      "metadata": {
        "colab": {
          "base_uri": "https://localhost:8080/",
          "height": 510
        },
        "id": "PrS7hLl4Ncvp",
        "outputId": "9d5fd429-6c15-42af-a7ac-63f1bf813c9d"
      },
      "outputs": [
        {
          "data": {
            "image/png": "[encoded data removed]",
            "text/plain": [
              "<Figure size 640x480 with 1 Axes>"
            ]
          },
          "metadata": {},
          "output_type": "display_data"
        }
      ],
      "source": [
        "ax = sns.barplot(x = list(count.keys()), y = list(count.values()))\n",
        "ax.set_xticklabels(ax.get_xticklabels(), rotation = 90)\n",
        "plt.show()"
      ]
    },
    {
      "cell_type": "code",
      "execution_count": 13,
      "metadata": {
        "id": "MZ9Q_7LwNub2"
      },
      "outputs": [],
      "source": [
        "class RNN(nn.Module):\n",
        "  def __init__(self, input_size, hidden_size, output_size):\n",
        "    super(RNN, self).__init__()\n",
        "    self.hidden_size = hidden_size\n",
        "    self.i2h = nn.Linear(input_size + hidden_size, hidden_size)\n",
        "    self.i2o = nn.Linear(input_size + hidden_size, output_size)\n",
        "    self.softmax = nn.LogSoftmax(dim= 1)\n",
        "\n",
        "  def forward(self, input_, hidden):\n",
        "    combined = torch.cat((input_, hidden), 1)\n",
        "    hidden = self.i2h(combined)\n",
        "    output = self.i2o(combined)\n",
        "    output = self.softmax(output)\n",
        "    return output, hidden\n",
        "\n",
        "  def init_hidden(self):\n",
        "    return torch.zeros(1, self.hidden_size)"
      ]
    },
    {
      "cell_type": "code",
      "execution_count": 14,
      "metadata": {
        "id": "ywz8rEiFWLxJ"
      },
      "outputs": [],
      "source": [
        "n_hidden = 128\n",
        "net = RNN(n_letters, n_hidden, n_languages)"
      ]
    },
    {
      "cell_type": "code",
      "execution_count": 15,
      "metadata": {
        "id": "MsUIzDBLWaNL"
      },
      "outputs": [],
      "source": [
        "def infer(net, name):\n",
        "  net.eval()\n",
        "  name_ohe = name_rep(name)\n",
        "  hidden = net.init_hidden()\n",
        "\n",
        "  for i in range(name_ohe.size()[0]):\n",
        "    output, hidden = net(name_ohe[i], hidden)\n",
        "\n",
        "  return output\n"
      ]
    },
    {
      "cell_type": "code",
      "execution_count": 16,
      "metadata": {
        "colab": {
          "base_uri": "https://localhost:8080/"
        },
        "id": "J7lLggIUYNZf",
        "outputId": "8768dfef-b74b-4151-af1f-8a9670e1724d"
      },
      "outputs": [
        {
          "name": "stdout",
          "output_type": "stream",
          "text": [
            "tensor([[-2.8516, -2.8886, -2.9107, -2.8571, -2.8216, -2.8986, -2.9130, -3.0523,\n",
            "         -2.8964, -2.9577, -2.9296, -2.8331, -2.8671, -2.8904, -2.8881, -2.8212,\n",
            "         -2.8285, -2.9489]], grad_fn=<LogSoftmaxBackward0>) tensor(15)\n"
          ]
        }
      ],
      "source": [
        "output = infer(net, 'Adam')\n",
        "index = torch.argmax(output)\n",
        "print(output, index)\n"
      ]
    },
    {
      "attachments": {},
      "cell_type": "markdown",
      "metadata": {
        "id": "0qc34YEKYmS4"
      },
      "source": [
        "### Evaluation"
      ]
    },
    {
      "cell_type": "code",
      "execution_count": 17,
      "metadata": {
        "id": "XdTcow1wYYJL"
      },
      "outputs": [],
      "source": [
        "def dataloader(npoints, X_, y_):\n",
        "  to_ret = []\n",
        "  for i in range(npoints):\n",
        "    index_ = np.random.randint(len(X_))\n",
        "    name, lang = X_[index_], y_[index_]\n",
        "    to_ret.append((name, lang, name_rep(name), lang_rep(lang)))\n",
        "  return to_ret"
      ]
    },
    {
      "cell_type": "code",
      "execution_count": 18,
      "metadata": {
        "id": "yYh7e-e5Znlj"
      },
      "outputs": [],
      "source": [
        "def eval(net, n_points, k, X_, y_):\n",
        "\n",
        "  data_ = dataloader(n_points, X_, y_)\n",
        "  correct = 0\n",
        "  for name, language, name_ohe, lang_rep in data_:\n",
        "\n",
        "    output = infer(net, name)\n",
        "    val, indices = output.topk(k)\n",
        "\n",
        "    if lang_rep in indices:\n",
        "      correct += 1\n",
        "\n",
        "  accuracy = correct / n_points\n",
        "  return accuracy"
      ]
    },
    {
      "cell_type": "code",
      "execution_count": 19,
      "metadata": {
        "colab": {
          "base_uri": "https://localhost:8080/"
        },
        "id": "Jv0ZE-IsaFff",
        "outputId": "200e39cb-b85e-4da5-b8a1-536a9837ffeb"
      },
      "outputs": [
        {
          "data": {
            "text/plain": [
              "0.082"
            ]
          },
          "execution_count": 19,
          "metadata": {},
          "output_type": "execute_result"
        }
      ],
      "source": [
        "eval(net, 1000, 3, X_test, y_test)"
      ]
    },
    {
      "attachments": {},
      "cell_type": "markdown",
      "metadata": {
        "id": "GbsCFkOrbC89"
      },
      "source": [
        "### Training"
      ]
    },
    {
      "cell_type": "code",
      "execution_count": 20,
      "metadata": {
        "id": "4zFYNkLRa5wb"
      },
      "outputs": [],
      "source": [
        "def train(net, opt, criterion, n_points):\n",
        "\n",
        "  opt.zero_grad()\n",
        "  total_loss = 0\n",
        "\n",
        "  data_ = dataloader(n_points, X_train, y_train)\n",
        "\n",
        "  for name, language, name_ohe, lang_rep in data_:\n",
        "    hidden = net.init_hidden()\n",
        "\n",
        "    for i in range(name_ohe.size()[0]):\n",
        "      output, hidden = net(name_ohe[i], hidden)\n",
        "\n",
        "    loss = criterion(output, lang_rep)\n",
        "    loss.backward(retain_graph = True)\n",
        "\n",
        "    total_loss += loss\n",
        "  \n",
        "  opt.step()\n",
        "  return total_loss / n_points\n"
      ]
    },
    {
      "cell_type": "code",
      "execution_count": 21,
      "metadata": {
        "id": "K_V16A2im3Aw"
      },
      "outputs": [],
      "source": [
        "criterion = nn.NLLLoss()\n",
        "opt = optim.SGD(net.parameters(), lr = 0.01, momentum = 0.9)"
      ]
    },
    {
      "cell_type": "code",
      "execution_count": 22,
      "metadata": {
        "colab": {
          "base_uri": "https://localhost:8080/"
        },
        "id": "m0mgbDosnAW4",
        "outputId": "8ef4ab36-8bf3-4c4f-9c5f-ba0f7a705d5c"
      },
      "outputs": [
        {
          "data": {
            "text/plain": [
              "tensor(2.8994, grad_fn=<DivBackward0>)"
            ]
          },
          "execution_count": 22,
          "metadata": {},
          "output_type": "execute_result"
        }
      ],
      "source": [
        "train(net, opt, criterion, 200)"
      ]
    },
    {
      "cell_type": "code",
      "execution_count": 23,
      "metadata": {
        "colab": {
          "base_uri": "https://localhost:8080/"
        },
        "id": "s0Ks4x8BoEJ-",
        "outputId": "95839358-1175-4002-f2fe-caf33d072898"
      },
      "outputs": [
        {
          "data": {
            "text/plain": [
              "0.449"
            ]
          },
          "execution_count": 23,
          "metadata": {},
          "output_type": "execute_result"
        }
      ],
      "source": [
        "eval(net, 1000, 1, X_test, y_test)"
      ]
    },
    {
      "cell_type": "code",
      "execution_count": 24,
      "metadata": {
        "id": "cJnAbq9aoN61"
      },
      "outputs": [],
      "source": [
        "def train_setup(net, lr = 0.01, n_batches = 100, batch_size = 10, momentum = 0.9, display_freq = 5):\n",
        "  criterion = nn.NLLLoss()\n",
        "  opt = optim.SGD(net.parameters(), lr = lr, momentum = momentum)\n",
        "  loss_arr = np.zeros(n_batches + 1)\n",
        "\n",
        "  for i in range(n_batches):\n",
        "    loss_arr[i+1] = (loss_arr[i] * i + train(net, opt, criterion, batch_size)) / (i + 1)                                              \n",
        "    if i % display_freq == display_freq - 1:\n",
        "      clear_output(wait = True)\n",
        "\n",
        "      print(f\"Iteration: {i}, Top-5: {eval(net, len(X_test), 5, X_test, y_test)}\")\n",
        "      plt.figure()\n",
        "      plt.plot(loss_arr[1:i], '-+')\n",
        "      plt.xlabel(\"Iteration\")\n",
        "      plt.ylabel(\"Loss\")\n",
        "      plt.show()\n",
        "      print('\\n\\n')"
      ]
    },
    {
      "cell_type": "code",
      "execution_count": 25,
      "metadata": {
        "colab": {
          "base_uri": "https://localhost:8080/",
          "height": 531
        },
        "id": "DGw_MqakphIn",
        "outputId": "143f5983-0875-4b3f-b740-a0dfc6f6fcc4"
      },
      "outputs": [
        {
          "name": "stdout",
          "output_type": "stream",
          "text": [
            "Iteration: 99, Top-5: 0.9054862842892768\n"
          ]
        },
        {
          "data": {
            "image/png": "[encoded data removed]",
            "text/plain": [
              "<Figure size 640x480 with 1 Axes>"
            ]
          },
          "metadata": {},
          "output_type": "display_data"
        },
        {
          "name": "stdout",
          "output_type": "stream",
          "text": [
            "\n",
            "\n",
            "\n"
          ]
        }
      ],
      "source": [
        "n_hidden = 128\n",
        "net = RNN(n_letters, n_hidden, n_languages)\n",
        "train_setup(net, lr=0.0005, n_batches = 100, batch_size = 256)"
      ]
    },
    {
      "cell_type": "code",
      "execution_count": null,
      "metadata": {
        "id": "mHb6pBt7qVSv"
      },
      "outputs": [],
      "source": []
    }
  ],
  "metadata": {
    "colab": {
      "gpuType": "T4",
      "provenance": []
    },
    "kernelspec": {
      "display_name": "Python 3",
      "name": "python3"
    },
    "language_info": {
      "codemirror_mode": {
        "name": "ipython",
        "version": 3
      },
      "file_extension": ".py",
      "mimetype": "text/x-python",
      "name": "python",
      "nbconvert_exporter": "python",
      "pygments_lexer": "ipython3",
      "version": "3.10.0"
    }
  },
  "nbformat": 4,
  "nbformat_minor": 0
}
